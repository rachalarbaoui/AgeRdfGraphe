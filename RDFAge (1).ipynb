{
  "nbformat": 4,
  "nbformat_minor": 0,
  "metadata": {
    "colab": {
      "name": "RDFAge.ipynb",
      "provenance": [],
      "collapsed_sections": []
    },
    "kernelspec": {
      "name": "python3",
      "display_name": "Python 3"
    },
    "language_info": {
      "name": "python"
    }
  },
  "cells": [
    {
      "cell_type": "markdown",
      "metadata": {
        "id": "af0DrPm2TGpS"
      },
      "source": [
        "**Nous allons installer la bibliothéque  rdflib dont laquelle , nous allons aboutir notre solution**"
      ]
    },
    {
      "cell_type": "code",
      "metadata": {
        "colab": {
          "base_uri": "https://localhost:8080/"
        },
        "id": "80Rk-iX8Vp_F",
        "outputId": "52ee4c7f-2d2c-4838-ead7-b87ff660a0da"
      },
      "source": [
        "#installation de la bibliothéque rdflib \n",
        "!pip install rdflib"
      ],
      "execution_count": 1,
      "outputs": [
        {
          "output_type": "stream",
          "text": [
            "Collecting rdflib\n",
            "\u001b[?25l  Downloading https://files.pythonhosted.org/packages/d0/6b/6454aa1db753c0f8bc265a5bd5c10b5721a4bb24160fb4faf758cf6be8a1/rdflib-5.0.0-py3-none-any.whl (231kB)\n",
            "\u001b[K     |████████████████████████████████| 235kB 7.2MB/s \n",
            "\u001b[?25hRequirement already satisfied: pyparsing in /usr/local/lib/python3.7/dist-packages (from rdflib) (2.4.7)\n",
            "Collecting isodate\n",
            "\u001b[?25l  Downloading https://files.pythonhosted.org/packages/9b/9f/b36f7774ff5ea8e428fdcfc4bb332c39ee5b9362ddd3d40d9516a55221b2/isodate-0.6.0-py2.py3-none-any.whl (45kB)\n",
            "\u001b[K     |████████████████████████████████| 51kB 6.1MB/s \n",
            "\u001b[?25hRequirement already satisfied: six in /usr/local/lib/python3.7/dist-packages (from rdflib) (1.15.0)\n",
            "Installing collected packages: isodate, rdflib\n",
            "Successfully installed isodate-0.6.0 rdflib-5.0.0\n"
          ],
          "name": "stdout"
        }
      ]
    },
    {
      "cell_type": "markdown",
      "metadata": {
        "id": "JEoRl88PVxJs"
      },
      "source": [
        "****"
      ]
    },
    {
      "cell_type": "markdown",
      "metadata": {
        "id": "i0ALUuqqS7T0"
      },
      "source": [
        "**Nous commençons d'abord par faire la syntaxe général d'un graphe RDF pour le contexte Age**"
      ]
    },
    {
      "cell_type": "code",
      "metadata": {
        "colab": {
          "base_uri": "https://localhost:8080/"
        },
        "id": "NY0M7mlQV0dF",
        "outputId": "87a977e9-a0e6-46bb-deaa-84ebae5c6572"
      },
      "source": [
        "import rdflib\n",
        "\n",
        "# Création de notre graphe(Age)\n",
        "g = rdflib.Graph()\n",
        "\n",
        "# analyser dans un fichier RDF hébergé sur Internet\n",
        "result = g.parse(\"https://dbpedia.org/ontology/age\")\n",
        "\n",
        "# boucle sur chaque triple du graphique (subj, pred, obj)\n",
        "for subj, pred, obj in g:\n",
        "    # vérifier s'il y a au moins un triple dans le graphique\n",
        "    if (subj, pred, obj) not in g:\n",
        "       raise Exception(\"It better be!\")\n",
        "\n",
        "# imprimer le nombre de \"triplets\" dans le graphique\n",
        "print(\"Mon Graphe Rdf contient  {} Triplets.\".format(len(g)))\n",
        "# imprimer l'intégralité du graphique au format RDF Turtle \n",
        "print(g.serialize(format=\"turtle\").decode(\"utf-8\"))\n",
        "from rdflib import Graph, Literal, RDF, URIRef\n",
        "from rdflib.namespace import FOAF , XSD\n",
        "g = Graph()\n",
        "age = URIRef(\"https://dbpedia.org/ontology/age\")\n",
        "\n",
        "\n",
        "\n",
        "\n"
      ],
      "execution_count": 4,
      "outputs": [
        {
          "output_type": "stream",
          "text": [
            "Mon Graphe Rdf contient  15 Triplets.\n",
            "@prefix ns4: <http://open.vocab.org/terms/> .\n",
            "@prefix owl: <http://www.w3.org/2002/07/owl#> .\n",
            "@prefix prov: <http://www.w3.org/ns/prov#> .\n",
            "@prefix rdf: <http://www.w3.org/1999/02/22-rdf-syntax-ns#> .\n",
            "@prefix rdfs: <http://www.w3.org/2000/01/rdf-schema#> .\n",
            "@prefix wdrs: <http://www.w3.org/2007/05/powder-s#> .\n",
            "@prefix xsd: <http://www.w3.org/2001/XMLSchema#> .\n",
            "\n",
            "<http://dbpedia.org/ontology/> ns4:defines <http://dbpedia.org/ontology/age> .\n",
            "\n",
            "<http://dbpedia.org/ontology/data/definitions.ttl> ns4:describes <http://dbpedia.org/ontology/age> .\n",
            "\n",
            "<http://dbpedia.org/ontology/age> a rdf:Property,\n",
            "        owl:DatatypeProperty ;\n",
            "    rdfs:label \"Alter\"@de,\n",
            "        \"ηλικία\"@el,\n",
            "        \"age\"@en,\n",
            "        \"leeftijd\"@nl,\n",
            "        \"старост\"@sr ;\n",
            "    rdfs:domain <http://dbpedia.org/ontology/Agent> ;\n",
            "    rdfs:isDefinedBy <http://dbpedia.org/ontology/> ;\n",
            "    rdfs:range xsd:integer ;\n",
            "    owl:sameAs <http://dbpedia.org/ontology/age> ;\n",
            "    wdrs:describedby <http://dbpedia.org/ontology/data/definitions.ttl> ;\n",
            "    prov:wasDerivedFrom <http://mappings.dbpedia.org/index.php/OntologyProperty:age> .\n",
            "\n",
            "\n"
          ],
          "name": "stdout"
        }
      ]
    },
    {
      "cell_type": "markdown",
      "metadata": {
        "id": "JPMaNeO1WVve"
      },
      "source": [
        "**Maintenant , une fois que nous avons eu la syntaxe général d'un graphe RDF implémenté en python , nous allons appliquer ce que nous avons besoin**\n",
        "\n",
        "\n",
        "---\n",
        "\n",
        "\n",
        "\n",
        "---\n",
        "\n",
        "\n",
        "\n",
        "---\n",
        "\n",
        "\n",
        "**Sujet :Age**\n",
        "\n",
        "**Prédicat : hênnetement , nous savons pas**\n",
        "\n",
        "**Object les sous-ensembles du contexte age que nous avons les mentionnés dans la partie 2(Identification du contexte)**\n"
      ]
    },
    {
      "cell_type": "code",
      "metadata": {
        "colab": {
          "base_uri": "https://localhost:8080/"
        },
        "id": "7GZ0qRFnWbct",
        "outputId": "3c870663-3145-42cf-9506-15f4000afa8b"
      },
      "source": [
        "from rdflib import Graph, Literal, RDF, URIRef,DCTERMS\n",
        "from rdflib.namespace import FOAF , XSD\n",
        "g = Graph()\n",
        "age = URIRef(\"https://dbpedia.org/ontology/age\")\n",
        "\n",
        "# Ajouter des triplets à l'aide de la méthode add() de store.\n",
        "\n",
        "g.add((age,  DCTERMS['Devided'], Literal(\"age[41,45]\")))\n",
        "g.add((age,  DCTERMS['Devided'], Literal(\"age[45,50]\")))\n",
        "g.add((age,  DCTERMS['Devided'], Literal(\"age[51,55]\")))\n",
        "g.add((age,  DCTERMS['Devided'], Literal(\"age[56,60]\")))\n",
        "g.add((age,  DCTERMS['Devided'], Literal(\"age[61,65]\")))\n",
        "\n",
        "print(\"--- Mon triplet est composé de : ---\")\n",
        "for s, p, o in g:\n",
        "    print((s, p, o))\n",
        "#Voir mon graphe RDF qui est composé en un seul triplet sous format turtle \n",
        "print(g.serialize(format='n3').decode(\"utf-8\"))"
      ],
      "execution_count": 5,
      "outputs": [
        {
          "output_type": "stream",
          "text": [
            "--- Mon triplet est composé de : ---\n",
            "(rdflib.term.URIRef('https://dbpedia.org/ontology/age'), rdflib.term.URIRef('http://purl.org/dc/terms/Devided'), rdflib.term.Literal('age[41,45]'))\n",
            "(rdflib.term.URIRef('https://dbpedia.org/ontology/age'), rdflib.term.URIRef('http://purl.org/dc/terms/Devided'), rdflib.term.Literal('age[45,50]'))\n",
            "(rdflib.term.URIRef('https://dbpedia.org/ontology/age'), rdflib.term.URIRef('http://purl.org/dc/terms/Devided'), rdflib.term.Literal('age[51,55]'))\n",
            "(rdflib.term.URIRef('https://dbpedia.org/ontology/age'), rdflib.term.URIRef('http://purl.org/dc/terms/Devided'), rdflib.term.Literal('age[61,65]'))\n",
            "(rdflib.term.URIRef('https://dbpedia.org/ontology/age'), rdflib.term.URIRef('http://purl.org/dc/terms/Devided'), rdflib.term.Literal('age[56,60]'))\n",
            "@prefix ns1: <http://purl.org/dc/terms/> .\n",
            "\n",
            "<https://dbpedia.org/ontology/age> ns1:Devided \"age[41,45]\",\n",
            "        \"age[45,50]\",\n",
            "        \"age[51,55]\",\n",
            "        \"age[56,60]\",\n",
            "        \"age[61,65]\" .\n",
            "\n",
            "\n"
          ],
          "name": "stdout"
        }
      ]
    },
    {
      "cell_type": "markdown",
      "metadata": {
        "id": "KWEO4hi1UTOl"
      },
      "source": [
        "**Nous avons pu extraire la sytanxe turtle , comme nous avons un seul sujet avec 5 objects**"
      ]
    }
  ]
}